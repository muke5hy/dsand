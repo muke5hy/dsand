{
 "cells": [
  {
   "cell_type": "markdown",
   "metadata": {},
   "source": [
    "## Why data structures?\n",
    "Data structures are containers that organize and group data together in different ways. When you write code to solve a problem, there will always be data involved—and how you store or structure that data in the computer's memory can have a huge impact on what kinds of things you can do with it and how efficiently you can do those things.\n",
    "\n",
    "In this section, we'll start out by reviewing some basic data structures that you're probably at least partly familiar with already.\n",
    "\n",
    "Then, as we go on in the course, we'll consider the pros and cons of using different structures when solving different types of problems.\n",
    "\n",
    "We'll start with a discussion of a very general structure—a collection."
   ]
  },
  {
   "cell_type": "markdown",
   "metadata": {},
   "source": [
    "### Properties of lists\n",
    "- Have an order (so you can say things like \"give me the 3rd item in the list\")\n",
    "- Have no fixed length (you can add or remove elements)"
   ]
  },
  {
   "cell_type": "markdown",
   "metadata": {},
   "source": [
    "### Arrays vs. lists vs. Python lists\n",
    "The distinction between arrays and lists can be a little confusing, especially because of how Python implements the data structure it calls a \"list\". Below, we'll go over some key points that should make this clearer.\n",
    "\n",
    "#### Arrays\n",
    "An array has some things in common with a list. In both cases:\n",
    "\n",
    "- There is a collection of items\n",
    "- The items have an order to them\n",
    "\n",
    "One of the key differences is that arrays have indexes, while lists do not.\n",
    "\n",
    "To understand this, it helps to know how arrays are stored in memory. When an array is created, it is always given some initial size—that is, the number of elements it should be able to hold (and how large each element is). The computer then finds a block of memory and sets aside the space for the array.\n",
    "\n",
    "Importantly, the space that gets set aside is one, continuous block. That is, all of the elements of the array are contiguous, meaning that they are all next to one another in memory.\n",
    "\n",
    "Another key characteristic of an array is that all of the elements are the same size.\n",
    "\n",
    "When we represent an array visually, we often draw it as a series of boxes that are all of the same size and all right next to one another:"
   ]
  },
  {
   "cell_type": "markdown",
   "metadata": {},
   "source": [
    "### Lists\n",
    "In contrast, the elements of a list may or may not be next to one another in memory! For example, later in this lesson we'll look at linked lists, where each list item points to the next list item—but where the items themselves may be scattered in different locations of memory. In this case, knowing the location of the first item in the list does not mean you can simply calculate the location of the other items. This means we cannot use indexes to directly access the list items as we would in an array. We'll explore linked lists in more detail shortly."
   ]
  },
  {
   "cell_type": "code",
   "execution_count": 3,
   "metadata": {},
   "outputs": [
    {
     "data": {
      "text/plain": [
       "['a', 'b', 'c']"
      ]
     },
     "execution_count": 3,
     "metadata": {},
     "output_type": "execute_result"
    }
   ],
   "source": [
    "my_list = ['a', 'b', 'c']\n",
    "my_list\n"
   ]
  },
  {
   "cell_type": "code",
   "execution_count": 5,
   "metadata": {},
   "outputs": [
    {
     "name": "stdout",
     "output_type": "stream",
     "text": [
      "a\n",
      "b\n",
      "c\n"
     ]
    }
   ],
   "source": [
    "print(my_list[0])\n",
    "print(my_list[1])\n",
    "print(my_list[2])"
   ]
  },
  {
   "cell_type": "code",
   "execution_count": null,
   "metadata": {},
   "outputs": [],
   "source": []
  },
  {
   "cell_type": "markdown",
   "metadata": {},
   "source": [
    "#### bottom line:\n",
    "\n",
    "- Python lists are essentially arrays, but also include additional high-level functionality\n",
    "- During this course, we will generally ignore this high-level functionality and treat Python lists as if they were simple arrays"
   ]
  }
 ],
 "metadata": {
  "kernelspec": {
   "display_name": "Python 3",
   "language": "python",
   "name": "python3"
  },
  "language_info": {
   "codemirror_mode": {
    "name": "ipython",
    "version": 3
   },
   "file_extension": ".py",
   "mimetype": "text/x-python",
   "name": "python",
   "nbconvert_exporter": "python",
   "pygments_lexer": "ipython3",
   "version": "3.7.4"
  }
 },
 "nbformat": 4,
 "nbformat_minor": 4
}
