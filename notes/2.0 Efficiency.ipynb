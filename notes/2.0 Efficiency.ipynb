{
 "cells": [
  {
   "cell_type": "markdown",
   "metadata": {},
   "source": [
    "# Big O Notation"
   ]
  },
  {
   "cell_type": "markdown",
   "metadata": {},
   "source": [
    "One of the main goals of this lesson is to help you develop your ability to look at some code and identify its time complexity—and then describe this time complexity using Big O notation.\n",
    "\n",
    "We will use this graph as a referece and reminder of the importance of the run time of an algorithm. We have the number of inputs (n) on the X axis and the the number of operations required (N) on the Y axis.\n",
    "\n",
    "<img src=\"./assets/bigo.svg\" alt=\"Drawing\" style=\"width: 400px;\"/>\n",
    "\n",
    "[\"Comparison of computational complexity\"](https://commons.wikimedia.org/wiki/File:Comparison_computational_complexity.svg) by Cmglee. Used under [CC BY-SA 4.0](https://creativecommons.org/licenses/by-sa/4.0/deed.en)."
   ]
  },
  {
   "cell_type": "markdown",
   "metadata": {},
   "source": [
    "#### Quadratic Example"
   ]
  },
  {
   "cell_type": "code",
   "execution_count": 2,
   "metadata": {},
   "outputs": [
    {
     "name": "stdout",
     "output_type": "stream",
     "text": [
      "Items: 1, 1\n",
      "Items: 1, 2\n",
      "Items: 1, 3\n",
      "Items: 1, 4\n",
      "Items: 2, 1\n",
      "Items: 2, 2\n",
      "Items: 2, 3\n",
      "Items: 2, 4\n",
      "Items: 3, 1\n",
      "Items: 3, 2\n",
      "Items: 3, 3\n",
      "Items: 3, 4\n",
      "Items: 4, 1\n",
      "Items: 4, 2\n",
      "Items: 4, 3\n",
      "Items: 4, 4\n",
      "CPU times: user 2 µs, sys: 1 µs, total: 3 µs\n",
      "Wall time: 19.1 µs\n"
     ]
    }
   ],
   "source": [
    "# O(n^2)\n",
    "\n",
    "def Quad_Example(our_list):\n",
    "    for first_loop_item in our_list:\n",
    "        for second_loop_item in our_list:\n",
    "            print (\"Items: {}, {}\".format(first_loop_item,second_loop_item))\n",
    "            \n",
    "            \n",
    "Quad_Example([1,2,3,4])\n",
    "\n",
    "%time"
   ]
  },
  {
   "cell_type": "markdown",
   "metadata": {},
   "source": [
    "#### Log Linear Example "
   ]
  },
  {
   "cell_type": "code",
   "execution_count": 3,
   "metadata": {},
   "outputs": [
    {
     "name": "stdout",
     "output_type": "stream",
     "text": [
      "CPU times: user 2 µs, sys: 1 µs, total: 3 µs\n",
      "Wall time: 5.01 µs\n"
     ]
    }
   ],
   "source": [
    "# O(nlogn)\n",
    "\n",
    "# Don't worry about how this algorithm works, we will cover it later in the course!\n",
    "\n",
    "def Log_Linear_Example(our_list):\n",
    "    \n",
    "    if len(our_list) < 2:\n",
    "        return our_list\n",
    "    \n",
    "    else:\n",
    "        mid = len(our_list)//2\n",
    "        left = our_list[:mid]\n",
    "        right = our_list[mid:]\n",
    "\n",
    "        Log_Linear_Example(left)\n",
    "        Log_Linear_Example(right)\n",
    "\n",
    "        i = 0\n",
    "        j = 0\n",
    "        k = 0\n",
    "\n",
    "        while i < len(left) and j < len(right):\n",
    "            if left[i] < right[j]:\n",
    "                our_list[k]=left[i]\n",
    "                i+=1\n",
    "            else:\n",
    "                our_list[k]=right[j]\n",
    "                j+=1\n",
    "            k+=1\n",
    "\n",
    "        while i < len(left):\n",
    "            our_list[k]=left[i]\n",
    "            i+=1\n",
    "            k+=1\n",
    "\n",
    "        while j < len(right):\n",
    "            our_list[k]=right[j]\n",
    "            j+=1\n",
    "            k+=1\n",
    "        \n",
    "        return our_list\n",
    "\n",
    "Log_Linear_Example([56,23,11,90,65,4,35,65,84,12,4,0])\n",
    "\n",
    "%time"
   ]
  },
  {
   "cell_type": "markdown",
   "metadata": {},
   "source": [
    "#### Linear Example"
   ]
  },
  {
   "cell_type": "code",
   "execution_count": 4,
   "metadata": {},
   "outputs": [
    {
     "name": "stdout",
     "output_type": "stream",
     "text": [
      "Item: 1\n",
      "Item: 2\n",
      "Item: 3\n",
      "Item: 4\n",
      "CPU times: user 5 µs, sys: 2 µs, total: 7 µs\n",
      "Wall time: 19.1 µs\n"
     ]
    }
   ],
   "source": [
    "# O(n)\n",
    "\n",
    "def Linear_Example(our_list):\n",
    "    for item in our_list:\n",
    "        print (\"Item: {}\".format(item))\n",
    "\n",
    "Linear_Example([1,2,3,4])\n",
    "\n",
    "%time"
   ]
  },
  {
   "cell_type": "markdown",
   "metadata": {},
   "source": [
    "#### Logarithmic Example"
   ]
  },
  {
   "cell_type": "code",
   "execution_count": 5,
   "metadata": {},
   "outputs": [
    {
     "name": "stdout",
     "output_type": "stream",
     "text": [
      "CPU times: user 1e+03 ns, sys: 0 ns, total: 1e+03 ns\n",
      "Wall time: 4.05 µs\n"
     ]
    }
   ],
   "source": [
    "# O(logn)\n",
    "\n",
    "def Logarithmic_Example(number):\n",
    "    if number == 0: \n",
    "        return 0\n",
    "    \n",
    "    elif number == 1: \n",
    "        return 1\n",
    "    \n",
    "    else: \n",
    "        return Logarithmic_Example(number-1)+Logarithmic_Example(number-2)\n",
    "\n",
    "    \n",
    "Logarithmic_Example(29)\n",
    "\n",
    "%time"
   ]
  },
  {
   "cell_type": "markdown",
   "metadata": {},
   "source": [
    "#### Constant Example"
   ]
  },
  {
   "cell_type": "code",
   "execution_count": 6,
   "metadata": {},
   "outputs": [
    {
     "name": "stdout",
     "output_type": "stream",
     "text": [
      "CPU times: user 1e+03 ns, sys: 0 ns, total: 1e+03 ns\n",
      "Wall time: 3.81 µs\n"
     ]
    }
   ],
   "source": [
    "# O(1)\n",
    "\n",
    "def Constant_Example(our_list):\n",
    "    return our_list.pop()\n",
    "\n",
    "Constant_Example([1,2,3,4])\n",
    "\n",
    "%time"
   ]
  },
  {
   "cell_type": "code",
   "execution_count": null,
   "metadata": {},
   "outputs": [],
   "source": []
  },
  {
   "cell_type": "markdown",
   "metadata": {},
   "source": [
    "Space Complexity Examples\n",
    "When we refer to space complexity, we are talking about how efficient our algorithm is in terms of memory usage. This comes down to the datatypes of the variables we are using and their allocated space requirements. In Python, it's less clear how to do this due to the underlying data structures using more memory for house keeping functions (as the language is actually written in C).\n",
    "\n",
    "For example, in C/C++, an integer type takes up 4 bytes of memory to store the value, but in Python 3 an integer takes 14 bytes of space. Again, this extra space is used for housekeeping functions in the Python language.\n",
    "\n",
    "For the examples of this lesson we will avoid this complexity and assume the following sizes:\n",
    "\n",
    "Type\tStorage size\n",
    "char\t1 byte\n",
    "bool\t1 byte\n",
    "int\t4 bytes\n",
    "float\t4 bytes\n",
    "double\t8 bytes\n",
    "It is also important to note that we will be focusing on just the data space being used and not any of the environment or instructional space.\n",
    "\n"
   ]
  },
  {
   "cell_type": "markdown",
   "metadata": {},
   "source": [
    "Example 1"
   ]
  },
  {
   "cell_type": "code",
   "execution_count": 7,
   "metadata": {},
   "outputs": [],
   "source": [
    "def our_constant_function():\n",
    "\n",
    "    x = 3 # Type int\n",
    "    y = 345 # Type int\n",
    "    z = 11 # Type int\n",
    "\n",
    "    answer = x+y+z\n",
    "\n",
    "    return answer\n",
    "\n",
    "\n",
    "\n"
   ]
  },
  {
   "cell_type": "markdown",
   "metadata": {},
   "source": [
    "\n",
    "So in this example we have four integers (x, y, z and answer) and therefore our space complexity will be 4*4 = 16 bytes. This is an example of constant space complexity, since the amount of space used does not change with input size.\n",
    "\n",
    "Example 2\n",
    "\n"
   ]
  },
  {
   "cell_type": "code",
   "execution_count": 8,
   "metadata": {},
   "outputs": [],
   "source": [
    "def our_linear_function(n):\n",
    "\n",
    "    n = n # Type int\n",
    "    counter = 0 # Type int\n",
    "    list_ = [] # Assume that the list is empty (i.e., ignore the fact that there is actually meta data stored with Python lists)\n",
    "\n",
    "    while counter < n:\n",
    "        list_.append(counter)\n",
    "        counter = counter + 1\n",
    "\n",
    "    return list_\n",
    "\n"
   ]
  },
  {
   "cell_type": "markdown",
   "metadata": {},
   "source": [
    "So in this example we have two integers (n and counter) and an expanding list, and therefore our space complexity will be 4*n + 8 since we have an expanding integer list and two integer data types. This is an example of linear space complexity."
   ]
  }
 ],
 "metadata": {
  "kernelspec": {
   "display_name": "Python 3",
   "language": "python",
   "name": "python3"
  },
  "language_info": {
   "codemirror_mode": {
    "name": "ipython",
    "version": 3
   },
   "file_extension": ".py",
   "mimetype": "text/x-python",
   "name": "python",
   "nbconvert_exporter": "python",
   "pygments_lexer": "ipython3",
   "version": "3.7.4"
  },
  "widgets": {
   "state": {},
   "version": "1.1.2"
  }
 },
 "nbformat": 4,
 "nbformat_minor": 4
}
