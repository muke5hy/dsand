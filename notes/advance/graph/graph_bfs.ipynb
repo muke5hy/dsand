{
 "cells": [
  {
   "cell_type": "markdown",
   "metadata": {
    "graffitiCellId": "id_19cls48"
   },
   "source": [
    "# Graph Breadth First Search\n",
    "In this exercise, you'll see how to do a breadth first search on a graph. To start, let's create a graph class in Python."
   ]
  },
  {
   "cell_type": "code",
   "execution_count": 1,
   "metadata": {
    "graffitiCellId": "id_pmkelaq"
   },
   "outputs": [],
   "source": [
    "class GraphNode(object):\n",
    "    def __init__(self, val):\n",
    "        self.value = val\n",
    "        self.children = []\n",
    "        \n",
    "    def add_child(self,new_node):\n",
    "        self.children.append(new_node)\n",
    "    \n",
    "    def remove_child(self,del_node):\n",
    "        if del_node in self.children:\n",
    "            self.children.remove(del_node)\n",
    "\n",
    "class Graph(object):\n",
    "    def __init__(self,node_list):\n",
    "        self.nodes = node_list\n",
    "        \n",
    "    def add_edge(self,node1,node2):\n",
    "        if(node1 in self.nodes and node2 in self.nodes):\n",
    "            node1.add_child(node2)\n",
    "            node2.add_child(node1)\n",
    "            \n",
    "    def remove_edge(self,node1,node2):\n",
    "        if(node1 in self.nodes and node2 in self.nodes):\n",
    "            node1.remove_child(node2)\n",
    "            node2.remove_child(node1)"
   ]
  },
  {
   "cell_type": "markdown",
   "metadata": {
    "graffitiCellId": "id_dk66y5p"
   },
   "source": [
    "Now let's create the graph."
   ]
  },
  {
   "cell_type": "code",
   "execution_count": 2,
   "metadata": {
    "graffitiCellId": "id_4twme6x"
   },
   "outputs": [],
   "source": [
    "nodeG = GraphNode('G')\n",
    "nodeR = GraphNode('R')\n",
    "nodeA = GraphNode('A')\n",
    "nodeP = GraphNode('P')\n",
    "nodeH = GraphNode('H')\n",
    "nodeS = GraphNode('S')\n",
    "\n",
    "graph1 = Graph([nodeS,nodeH,nodeG,nodeP,nodeR,nodeA] ) \n",
    "graph1.add_edge(nodeG,nodeR)\n",
    "graph1.add_edge(nodeA,nodeR)\n",
    "graph1.add_edge(nodeA,nodeG)\n",
    "graph1.add_edge(nodeR,nodeP)\n",
    "graph1.add_edge(nodeH,nodeG)\n",
    "graph1.add_edge(nodeH,nodeP)\n",
    "graph1.add_edge(nodeS,nodeR)"
   ]
  },
  {
   "cell_type": "markdown",
   "metadata": {
    "graffitiCellId": "id_iplss81"
   },
   "source": [
    "## Implement BFS\n",
    "Using what you know about BFS for trees and DFS for graphs, let's do BFS for graphs. Implement the `bfs_search` to return the `GraphNode` with the value `search_value` starting at the `root_node`."
   ]
  },
  {
   "cell_type": "code",
   "execution_count": 3,
   "metadata": {
    "graffitiCellId": "id_1vk7aeh"
   },
   "outputs": [],
   "source": [
    "def bfs_search(root_node, search_value):\n",
    "    pass"
   ]
  },
  {
   "cell_type": "markdown",
   "metadata": {
    "graffitiCellId": "id_fg1wpq1"
   },
   "source": [
    "<span class=\"graffiti-highlight graffiti-id_fg1wpq1-id_g7fi7m5\"><i></i><button>Show Solution</button></span>"
   ]
  },
  {
   "cell_type": "markdown",
   "metadata": {
    "graffitiCellId": "id_ej37296"
   },
   "source": [
    "### Tests"
   ]
  },
  {
   "cell_type": "code",
   "execution_count": 4,
   "metadata": {
    "graffitiCellId": "id_ajsx9hw"
   },
   "outputs": [
    {
     "ename": "AssertionError",
     "evalue": "",
     "output_type": "error",
     "traceback": [
      "\u001b[0;31m---------------------------------------------------------------------------\u001b[0m",
      "\u001b[0;31mAssertionError\u001b[0m                            Traceback (most recent call last)",
      "\u001b[0;32m<ipython-input-4-5893e3eb7ef0>\u001b[0m in \u001b[0;36m<module>\u001b[0;34m()\u001b[0m\n\u001b[0;32m----> 1\u001b[0;31m \u001b[0;32massert\u001b[0m \u001b[0mnodeA\u001b[0m \u001b[0;34m==\u001b[0m \u001b[0mbfs_search\u001b[0m\u001b[0;34m(\u001b[0m\u001b[0mnodeS\u001b[0m\u001b[0;34m,\u001b[0m \u001b[0;34m'A'\u001b[0m\u001b[0;34m)\u001b[0m\u001b[0;34m\u001b[0m\u001b[0m\n\u001b[0m\u001b[1;32m      2\u001b[0m \u001b[0;32massert\u001b[0m \u001b[0mnodeS\u001b[0m \u001b[0;34m==\u001b[0m \u001b[0mbfs_search\u001b[0m\u001b[0;34m(\u001b[0m\u001b[0mnodeP\u001b[0m\u001b[0;34m,\u001b[0m \u001b[0;34m'S'\u001b[0m\u001b[0;34m)\u001b[0m\u001b[0;34m\u001b[0m\u001b[0m\n\u001b[1;32m      3\u001b[0m \u001b[0;32massert\u001b[0m \u001b[0mnodeR\u001b[0m \u001b[0;34m==\u001b[0m \u001b[0mbfs_search\u001b[0m\u001b[0;34m(\u001b[0m\u001b[0mnodeH\u001b[0m\u001b[0;34m,\u001b[0m \u001b[0;34m'R'\u001b[0m\u001b[0;34m)\u001b[0m\u001b[0;34m\u001b[0m\u001b[0m\n",
      "\u001b[0;31mAssertionError\u001b[0m: "
     ]
    }
   ],
   "source": [
    "assert nodeA == bfs_search(nodeS, 'A')\n",
    "assert nodeS == bfs_search(nodeP, 'S')\n",
    "assert nodeR == bfs_search(nodeH, 'R')"
   ]
  }
 ],
 "metadata": {
  "graffiti": {
   "firstAuthorId": "dev",
   "id": "id_kq4h66c",
   "language": "EN"
  },
  "kernelspec": {
   "display_name": "Python 3",
   "language": "python",
   "name": "python3"
  },
  "language_info": {
   "codemirror_mode": {
    "name": "ipython",
    "version": 3
   },
   "file_extension": ".py",
   "mimetype": "text/x-python",
   "name": "python",
   "nbconvert_exporter": "python",
   "pygments_lexer": "ipython3",
   "version": "3.6.3"
  }
 },
 "nbformat": 4,
 "nbformat_minor": 2
}
