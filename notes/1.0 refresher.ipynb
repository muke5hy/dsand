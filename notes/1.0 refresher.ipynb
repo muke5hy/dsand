{
 "cells": [
  {
   "cell_type": "markdown",
   "metadata": {},
   "source": [
    "### Iteration with Loops"
   ]
  },
  {
   "cell_type": "code",
   "execution_count": 1,
   "metadata": {},
   "outputs": [
    {
     "name": "stdout",
     "output_type": "stream",
     "text": [
      "The value of item is: 0\n",
      "The value of item is: 1\n",
      "The value of item is: 2\n",
      "The value of item is: 3\n",
      "The value of item is: 4\n",
      "The value of item is: 5\n",
      "The index value is: 0. The value at i is: 0\n",
      "The index value is: 1. The value at i is: 1\n",
      "The index value is: 2. The value at i is: 2\n",
      "The index value is: 3. The value at i is: 3\n",
      "The index value is: 4. The value at i is: 4\n",
      "The index value is: 5. The value at i is: 5\n",
      "0\n",
      "1\n",
      "2\n",
      "3\n",
      "4\n",
      "5\n",
      "6\n",
      "7\n",
      "8\n",
      "9\n",
      "a, jill\n",
      "b, tom\n",
      "c, tim\n"
     ]
    }
   ],
   "source": [
    "# Examples of iteration with for loops.\n",
    "\n",
    "my_list = [0, 1, 2, 3, 4, 5]\n",
    "\n",
    "# Print each value in my_list. Note you can use the \"in\" keyword to iterate over a list.\n",
    "for item in my_list:\n",
    "    print('The value of item is: ' + str(item))\n",
    "\n",
    "# Print each index and value pair.\n",
    "for i, value in enumerate(my_list):\n",
    "    print('The index value is: ' + str(i) + '. The value at i is: ' + str(value))\n",
    "\n",
    "# Print each number from 0 to 9 using a while loop.\n",
    "i = 0\n",
    "while(i < 10):\n",
    "    print(i)\n",
    "    i += 1\n",
    "\n",
    "# Print each key and dictionary value. Note that you can use the \"in\" keyword \n",
    "# to iterate over dictionary keys.\n",
    "my_dict = {'a': 'jill', 'b': 'tom', 'c': 'tim'}\n",
    "for key in my_dict:\n",
    "    print(key + ', ' + my_dict[key])"
   ]
  },
  {
   "cell_type": "markdown",
   "metadata": {},
   "source": [
    "### Test "
   ]
  },
  {
   "cell_type": "code",
   "execution_count": 2,
   "metadata": {},
   "outputs": [
    {
     "name": "stdout",
     "output_type": "stream",
     "text": [
      "[0, 1, 2, 3]\n"
     ]
    }
   ],
   "source": [
    "my_dict = {'a':[0, 1, 2, 3], 'b':[0, 1, 2, 3], 'c':[0, 1, 2, 3], 'd':[0, 1, 2, 3]}\n",
    "i = 0\n",
    "output = []\n",
    "for key in my_dict:\n",
    "    output.append(my_dict[key][i])\n",
    "    i += 1\n",
    "print(output)"
   ]
  },
  {
   "cell_type": "markdown",
   "metadata": {},
   "source": [
    "### Conditional Statements"
   ]
  },
  {
   "cell_type": "code",
   "execution_count": 4,
   "metadata": {},
   "outputs": [
    {
     "name": "stdout",
     "output_type": "stream",
     "text": [
      "The number equals 5.\n"
     ]
    }
   ],
   "source": [
    "num = 5\n",
    "if num < 5:\n",
    "    print('The number is smaller than 5.')\n",
    "elif num == 5:\n",
    "    print('The number equals 5.')\n",
    "else:\n",
    "    print('The number is greater than 5.')"
   ]
  },
  {
   "cell_type": "code",
   "execution_count": 5,
   "metadata": {},
   "outputs": [
    {
     "data": {
      "text/plain": [
       "False"
      ]
     },
     "execution_count": 5,
     "metadata": {},
     "output_type": "execute_result"
    }
   ],
   "source": [
    "num > 5"
   ]
  },
  {
   "cell_type": "markdown",
   "metadata": {},
   "source": [
    "### Control Structure Practice"
   ]
  },
  {
   "cell_type": "code",
   "execution_count": null,
   "metadata": {},
   "outputs": [],
   "source": [
    "def smallest_positive(in_list):\n",
    "    # TODO: Define a control structure that finds the smallest positive\n",
    "    # number in in_list and returns the correct smallest number.\n",
    "    smallest_no = None\n",
    "    for n in in_list:\n",
    "        if n > 0:\n",
    "            if smallest_no is None or smallest_no > n:\n",
    "                smallest_no = n\n",
    "    return smallest_no\n",
    "\n",
    "# Test cases\n",
    "\n",
    "print(smallest_positive([4, -6, 7, 2, -4, 10]))\n",
    "# Correct output: 2\n",
    "\n",
    "print(smallest_positive([.2, 5, 3, -.1, 7, 7, 6]))\n",
    "# Correct output: 0.2\n",
    "\n",
    "print(smallest_positive([-6, -9, -7]))\n",
    "# Correct output: None\n",
    "\n",
    "print(smallest_positive([]))\n",
    "# Correct output: None"
   ]
  },
  {
   "cell_type": "markdown",
   "metadata": {},
   "source": [
    "### Function and Generators"
   ]
  },
  {
   "cell_type": "code",
   "execution_count": 6,
   "metadata": {},
   "outputs": [],
   "source": [
    "# Example function 1: return the sum of two numbers.\n",
    "def sum(a, b):\n",
    "    return a+b\n",
    "\n",
    "# Example function 2: return the size of list, and modify the list to now be sorted.\n",
    "def list_sort(my_list):\n",
    "    my_list.sort()\n",
    "    return len(my_list),  my_list"
   ]
  },
  {
   "cell_type": "markdown",
   "metadata": {},
   "source": [
    "### Python Generators"
   ]
  },
  {
   "cell_type": "code",
   "execution_count": 7,
   "metadata": {},
   "outputs": [
    {
     "name": "stdout",
     "output_type": "stream",
     "text": [
      "0\n",
      "2\n",
      "4\n",
      "6\n",
      "8\n",
      "7\n",
      "10\n",
      "12\n",
      "14\n",
      "16\n",
      "18\n",
      "20\n",
      "22\n",
      "24\n",
      "26\n",
      "28\n",
      "30\n",
      "32\n",
      "34\n",
      "36\n",
      "38\n",
      "40\n",
      "42\n",
      "44\n",
      "46\n",
      "48\n",
      "50\n",
      "52\n",
      "54\n",
      "56\n",
      "58\n",
      "60\n",
      "62\n",
      "64\n",
      "66\n",
      "68\n",
      "70\n",
      "72\n",
      "74\n",
      "76\n",
      "78\n",
      "80\n",
      "82\n",
      "84\n",
      "86\n",
      "88\n",
      "90\n",
      "92\n",
      "94\n",
      "96\n",
      "98\n",
      "100\n",
      "102\n",
      "104\n",
      "106\n",
      "108\n",
      "110\n",
      "112\n",
      "114\n",
      "116\n",
      "118\n",
      "120\n",
      "122\n",
      "124\n",
      "126\n",
      "128\n",
      "130\n",
      "132\n",
      "134\n",
      "136\n",
      "138\n",
      "140\n",
      "142\n",
      "144\n",
      "146\n",
      "148\n",
      "150\n",
      "152\n",
      "154\n",
      "156\n",
      "158\n",
      "160\n",
      "162\n",
      "164\n",
      "166\n",
      "168\n",
      "170\n",
      "172\n",
      "174\n",
      "176\n",
      "178\n",
      "180\n",
      "182\n",
      "184\n",
      "186\n",
      "188\n",
      "190\n",
      "192\n",
      "194\n",
      "196\n",
      "198\n",
      "200\n",
      "202\n",
      "204\n",
      "206\n",
      "208\n"
     ]
    }
   ],
   "source": [
    "# Definition of the generator to produce even numbers.\n",
    "def all_even():\n",
    "    n = 0\n",
    "    while True:\n",
    "        yield n\n",
    "        n += 2\n",
    "\n",
    "my_gen = all_even()\n",
    "\n",
    "# Generate the first 5 even numbers.\n",
    "for i in range(5):\n",
    "    print(next(my_gen))\n",
    "\n",
    "# Now go and do some other processing.\n",
    "do_something = 4\n",
    "do_something += 3\n",
    "print(do_something)\n",
    "\n",
    "# Now go back to generating more even numbers.\n",
    "for i in range(100):\n",
    "    print(next(my_gen))"
   ]
  },
  {
   "cell_type": "markdown",
   "metadata": {},
   "source": [
    "n the following exercise, you will create a generator fact_gen() that generates factorials. For a number n, n factorial is denoted by n!, and it is the product of all positive integers less than or equal to n. For example,"
   ]
  },
  {
   "cell_type": "code",
   "execution_count": null,
   "metadata": {},
   "outputs": [],
   "source": [
    "def prod(a,b):\n",
    "    # TODO change output to the product of a and b\n",
    "    return a*b\n",
    "\n",
    "def fact_gen():\n",
    "    i = 1\n",
    "    n = i\n",
    "    while True:\n",
    "        output = prod(n, i)\n",
    "        yield output\n",
    "        # TODO: update i and n\n",
    "        # Hint: i is a successive integer and n is the previous product\n",
    "        i += 1\n",
    "        n = output\n",
    "\n",
    "\n",
    "# Test block\n",
    "my_gen = fact_gen()\n",
    "num = 5\n",
    "for i in range(num):\n",
    "    print(next(my_gen))\n",
    "\n",
    "# Correct result when num = 5:\n",
    "# 1\n",
    "# 2\n",
    "# 6\n",
    "# 24\n",
    "# 120"
   ]
  },
  {
   "cell_type": "markdown",
   "metadata": {},
   "source": [
    "Sudoku is a logic puzzle where a game is defined by a partially filled 9 x 9 square of digits where each square contains one of the digits 1, 2, 3, 4, 5, 6, 7, 8, 9. For this question we will generalize and simplify the game.\n",
    "\n",
    "Define a procedure, check_sudoku, that takes as input a square list of lists representing an n x n sudoku puzzle solution and returns the boolean True if the input is a valid sudoku square and returns the boolean False otherwise.\n",
    "\n",
    "A valid sudoku square satisfies these two properties:\n",
    "\n",
    "Each column of the square contains each of the whole numbers from 1 to n exactly once.\n",
    "\n",
    "Each row of the square contains each of the whole numbers from 1 to n exactly once.\n",
    "\n",
    "You may assume that the input is square and contains at least one row and column."
   ]
  },
  {
   "cell_type": "code",
   "execution_count": 10,
   "metadata": {},
   "outputs": [
    {
     "name": "stdout",
     "output_type": "stream",
     "text": [
      "True\n",
      "False\n"
     ]
    }
   ],
   "source": [
    "correct = [[1,2,3],\n",
    "           [2,3,1],\n",
    "           [3,1,2]]\n",
    "\n",
    "incorrect = [[1,2,3,4],\n",
    "             [2,3,1,3],\n",
    "             [3,1,2,3],\n",
    "             [4,4,4,4]]\n",
    "\n",
    "incorrect2 = [[1,2,3,4],\n",
    "             [2,3,1,4],\n",
    "             [4,1,2,3],\n",
    "             [3,4,1,2]]\n",
    "\n",
    "incorrect3 = [[1,2,3,4,5],\n",
    "              [2,3,1,5,6],\n",
    "              [4,5,2,1,3],\n",
    "              [3,4,5,2,1],\n",
    "              [5,6,4,3,2]]\n",
    "\n",
    "incorrect4 = [['a','b','c'],\n",
    "              ['b','c','a'],\n",
    "              ['c','a','b']]\n",
    "\n",
    "incorrect5 = [ [1, 1.5],\n",
    "               [1.5, 1]]\n",
    "               \n",
    "\n",
    "def check_sudoku(square):\n",
    "    for row in square:\n",
    "        # Create a list with the integers 1, 2, ..., n.\n",
    "        # We will check that each number in the row is in the list\n",
    "        # and remove the numbers from the list once they are verified\n",
    "        # to ensure that each number only occurs once in the row.\n",
    "        check_list = list(range(1, len(square[0]) + 1))\n",
    "        for i in row:\n",
    "            if i not in check_list:\n",
    "                return False\n",
    "            check_list.remove(i)\n",
    "    for n in range(len(square[0])):\n",
    "        # We do the same here for each column in the square.\n",
    "        check_list = list(range(1, len(square[0]) + 1))\n",
    "        for row in square:\n",
    "            if row[n] not in check_list:\n",
    "                return False\n",
    "            check_list.remove(row[n])\n",
    "    return True\n",
    "\n",
    "\n",
    "    \n",
    "    \n",
    "#print(check_sudoku(incorrect))\n",
    "#>>> False\n",
    "\n",
    "print(check_sudoku(correct))\n",
    "#>>> True\n",
    "\n",
    "#print(check_sudoku(incorrect2))\n",
    "#>>> False\n",
    "\n",
    "#print(check_sudoku(incorrect3))\n",
    "#>>> False\n",
    "\n",
    "#print(check_sudoku(incorrect4))\n",
    "#>>> False\n",
    "\n",
    "print(check_sudoku(incorrect5))\n",
    "#>>> False\n",
    "\n",
    "\n"
   ]
  },
  {
   "cell_type": "markdown",
   "metadata": {},
   "source": [
    "### Python Class Practice"
   ]
  },
  {
   "cell_type": "code",
   "execution_count": 11,
   "metadata": {},
   "outputs": [
    {
     "name": "stdout",
     "output_type": "stream",
     "text": [
      "{'Michael': 11, 'Andrew': 13, 'Joseph': 25, 'Lisa': 37, 'Dusty': 53, 'Erica': 72, 'Carol': 36, 'Robert': 89, 'Lawrence': 87, 'Margaret': 35}\n",
      "August\n"
     ]
    }
   ],
   "source": [
    "class Person:\n",
    "    def __init__(self, name, age, month):\n",
    "        self.name = name\n",
    "        self.age = age\n",
    "        self.birthday_month = month\n",
    "        \n",
    "    def birthday(self):\n",
    "        self.age += 1\n",
    "\n",
    "def create_person_objects(names, ages, months):\n",
    "    my_data = zip(names, ages, months)\n",
    "    person_objects = []\n",
    "    for item in my_data:\n",
    "        person_objects.append(Person(*item))\n",
    "    return person_objects\n",
    "\n",
    "def get_april_birthdays(people):\n",
    "    # TODO:\n",
    "    # Increment \"age\" for all people with birthdays in April.\n",
    "    # Return a dictionary \"april_birthdays\" with the names of\n",
    "    # all people with April birthdays as keys, and their updated ages \n",
    "    # as values. See the test below for an example expected output.\n",
    "    april_birthdays = {}\n",
    "    for person in people:\n",
    "        if person.birthday_month == 'April':\n",
    "            person.age += 1\n",
    "            april_birthdays[person.name] = person.age\n",
    "            \n",
    "    return april_birthdays\n",
    "\n",
    "def get_most_common_month(people):\n",
    "    # TODO: Use the \"months\" dictionary to record counts of \n",
    "    # birthday months for persons in the \"people\" data.\n",
    "    # Return the month with the largest number of birthdays.\n",
    "    months = {'January':0, 'February':0, 'March':0, 'April':0, 'May':0, \n",
    "              'June':0, 'July':0, 'August':0, 'September':0, 'October':0,\n",
    "              'November':0, 'December':0}\n",
    "\n",
    "    for person in people:\n",
    "        months[person.birthday_month] += 1\n",
    "\n",
    "    max_month = None\n",
    "    max_value = 0\n",
    "    for key in months.keys():\n",
    "        if months[key] > max_value:\n",
    "            max_value = months[key]\n",
    "            max_month = key\n",
    "\n",
    "    return max_month\n",
    "\n",
    "\n",
    "\n",
    "def test():\n",
    "    # Here is the data for the test. Assume there is a single most common month.\n",
    "    names = ['Howard', 'Richard', 'Jules', 'Trula', 'Michael', 'Elizabeth', 'Richard', 'Shirley', 'Mark', 'Brianna', 'Kenneth', 'Gwen', 'William', 'Rosa', 'Denver', 'Shelly', 'Sammy', 'Maryann', 'Kathleen', 'Andrew', 'Joseph', 'Kathleen', 'Lisa', 'Viola', 'George', 'Bonnie', 'Robert', 'William', 'Sabrina', 'John', 'Robert', 'Gil', 'Calvin', 'Robert', 'Dusty', 'Dario', 'Joeann', 'Terry', 'Alan', 'Rosa', 'Jeane', 'James', 'Rachel', 'Tu', 'Chelsea', 'Andrea', 'Ernest', 'Erica', 'Priscilla', 'Carol', 'Michael', 'Dale', 'Arthur', 'Helen', 'James', 'Donna', 'Patricia', 'Betty', 'Patricia', 'Mollie', 'Nicole', 'Ernest', 'Wendy', 'Graciela', 'Teresa', 'Nicole', 'Trang', 'Caleb', 'Robert', 'Paul', 'Nieves', 'Arleen', 'Milton', 'James', 'Lawrence', 'Edward', 'Susan', 'Patricia', 'Tana', 'Jessica', 'Suzanne', 'Darren', 'Arthur', 'Holly', 'Mary', 'Randal', 'John', 'Laura', 'Betty', 'Chelsea', 'Margaret', 'Angel', 'Jeffrey', 'Mary', 'Donald', 'David', 'Roger', 'Evan', 'Danny', 'William']\n",
    "    ages  = [17, 58, 79, 8, 10, 57, 4, 98, 19, 47, 81, 68, 48, 13, 39, 21, 98, 51, 49, 12, 24, 78, 36, 59, 3, 87, 94, 85, 43, 69, 15, 52, 57, 36, 52, 5, 52, 5, 33, 10, 71, 28, 70, 9, 25, 28, 76, 71, 22, 35, 35, 100, 9, 95, 69, 52, 66, 91, 39, 84, 65, 29, 20, 98, 30, 83, 30, 15, 88, 89, 24, 98, 62, 94, 86, 63, 34, 23, 23, 19, 10, 80, 88, 67, 17, 91, 85, 97, 29, 7, 34, 38, 92, 29, 14, 52, 94, 62, 70, 22]\n",
    "    months = ['January', 'March', 'January', 'October', 'April', 'February', 'August', 'January', 'June', 'August', 'February', 'May', 'March', 'June', 'February', 'August', 'June', 'March', 'August', 'April', 'April', 'June', 'April', 'June', 'February', 'September', 'March', 'July', 'September', 'December', 'June', 'June', 'August', 'November', 'April', 'November', 'August', 'June', 'January', 'August', 'May', 'March', 'March', 'March', 'May', 'September', 'August', 'April', 'February', 'April', 'May', 'March', 'March', 'January', 'August', 'October', 'February', 'November', 'August', 'June', 'September', 'September', 'January', 'September', 'July', 'July', 'December', 'June', 'April', 'February', 'August', 'September', 'August', 'February', 'April', 'July', 'May', 'November', 'December', 'February', 'August', 'August', 'September', 'December', 'February', 'March', 'June', 'December', 'February', 'May', 'April', 'July', 'March', 'June', 'December', 'March', 'July', 'May', 'September', 'November']\n",
    "    people = create_person_objects(names, ages, months)\n",
    "\n",
    "    # Calls to the two functions you have completed.\n",
    "    print(get_april_birthdays(people))\n",
    "    print(get_most_common_month(people))\n",
    "\n",
    "\n",
    "\n",
    "test()\n",
    "# Expected result:\n",
    "# {'Michael': 11, 'Erica': 72, 'Carol': 36, 'Lisa': 37, 'Lawrence': 87, 'Joseph': 25, 'Margaret': 35, 'Andrew': 13, 'Dusty': 53, 'Robert': 89}\n",
    "# August\n"
   ]
  }
 ],
 "metadata": {
  "kernelspec": {
   "display_name": "Python 3",
   "language": "python",
   "name": "python3"
  },
  "language_info": {
   "codemirror_mode": {
    "name": "ipython",
    "version": 3
   },
   "file_extension": ".py",
   "mimetype": "text/x-python",
   "name": "python",
   "nbconvert_exporter": "python",
   "pygments_lexer": "ipython3",
   "version": "3.7.4"
  }
 },
 "nbformat": 4,
 "nbformat_minor": 4
}
